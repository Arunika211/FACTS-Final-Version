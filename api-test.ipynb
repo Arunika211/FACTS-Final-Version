{
 "cells": [
  {
   "cell_type": "code",
   "execution_count": null,
   "metadata": {
    "vscode": {
     "languageId": "plaintext"
    }
   },
   "outputs": [],
   "source": [
    "import requests\n",
    "import base64\n",
    "from PIL import Image\n",
    "import io\n",
    "import json\n",
    "\n",
    "# URL ke endpoint HuggingFace Spaces (ganti dengan URL kamu)\n",
    "API_URL = \"https://yourusername-facts-api.hf.space\"\n",
    "\n",
    "# Test endpoint status\n",
    "response = requests.get(f\"{API_URL}/status\")\n",
    "print(\"Status response:\", response.json())\n",
    "\n",
    "# Test load model (opsional)\n",
    "response = requests.get(f\"{API_URL}/download-yolo\")\n",
    "print(\"Download YOLO response:\", response.json())"
   ]
  }
 ],
 "metadata": {
  "language_info": {
   "name": "python"
  }
 },
 "nbformat": 4,
 "nbformat_minor": 2
}
